version https://git-lfs.github.com/spec/v1
oid sha256:c08aa02b835700894212c28323bf483ce6f0cd586cc7a314e95a7e3b2409fbd1
size 87654494
